{
 "cells": [
  {
   "cell_type": "markdown",
   "metadata": {},
   "source": [
    "\n",
    "\n",
    "\n",
    "Strings\n",
    "\n",
    ".create\n",
    ".indecxing & access\n",
    ".slicing\n",
    ".most useful methods\n",
    "\n"
   ]
  },
  {
   "cell_type": "code",
   "execution_count": 1,
   "metadata": {},
   "outputs": [],
   "source": [
    "a= 'apple'  ##single quotes\n",
    "b=\"applejuice\" ##double quotes\n",
    "c= 'this is an example'\n",
    "d= '''this is an \n",
    "example'''           #triple quotes"
   ]
  },
  {
   "cell_type": "markdown",
   "metadata": {},
   "source": [
    ".string is a imutable\n",
    ".string is iterable\n",
    ".string is indexed\n",
    "\n",
    "iterable - something that has multiple variable and can be looped over"
   ]
  },
  {
   "cell_type": "code",
   "execution_count": 3,
   "metadata": {},
   "outputs": [
    {
     "name": "stdout",
     "output_type": "stream",
     "text": [
      "a\n",
      "p\n",
      "e\n"
     ]
    }
   ],
   "source": [
    "print(a[0])\n",
    "print(a[1])\n",
    "print(a[-1])\n"
   ]
  },
  {
   "cell_type": "markdown",
   "metadata": {},
   "source": [
    "Slicing \n",
    "`str[start:stop:step]\n"
   ]
  },
  {
   "cell_type": "code",
   "execution_count": 14,
   "metadata": {},
   "outputs": [
    {
     "name": "stdout",
     "output_type": "stream",
     "text": [
      "tai\n"
     ]
    }
   ],
   "source": [
    "name = \"tariq abdin\"\n",
    "print(name[0],name[1],name[3],sep='')"
   ]
  },
  {
   "cell_type": "code",
   "execution_count": 25,
   "metadata": {},
   "outputs": [
    {
     "name": "stdout",
     "output_type": "stream",
     "text": [
      "abdi\n",
      "riq ab\n",
      "t\n",
      "nidba qirat\n"
     ]
    }
   ],
   "source": [
    "name = \"tariq abdin\"\n",
    "print(name[6:10])\n",
    "print(name[2:8])\n",
    "print(name[:1:9]) ##start to 9 index with the step 1\n",
    "print(name[::-1]) ##reverse the string\n"
   ]
  },
  {
   "cell_type": "code",
   "execution_count": 28,
   "metadata": {},
   "outputs": [
    {
     "data": {
      "text/plain": [
       "'nidba'"
      ]
     },
     "execution_count": 28,
     "metadata": {},
     "output_type": "execute_result"
    }
   ],
   "source": [
    "name[:][::-1][:5]"
   ]
  },
  {
   "cell_type": "code",
   "execution_count": 6,
   "metadata": {},
   "outputs": [
    {
     "data": {
      "text/plain": [
       "'Bruce wayne'"
      ]
     },
     "execution_count": 6,
     "metadata": {},
     "output_type": "execute_result"
    }
   ],
   "source": [
    "fname = \"Bruce\"\n",
    "lname = \"Wayne\"\n",
    "fname + ' '+ lname ##concentation"
   ]
  },
  {
   "cell_type": "code",
   "execution_count": 5,
   "metadata": {},
   "outputs": [
    {
     "data": {
      "text/plain": [
       "' ha  ha  ha  ha  ha  ha  ha  ha  ha  ha  ha  ha  ha  ha  ha  ha  ha  ha  ha  ha '"
      ]
     },
     "execution_count": 5,
     "metadata": {},
     "output_type": "execute_result"
    }
   ],
   "source": [
    "' ha ' * 20 ##repetition"
   ]
  },
  {
   "cell_type": "code",
   "execution_count": 32,
   "metadata": {},
   "outputs": [
    {
     "data": {
      "text/plain": [
       "'😂 😂 😂 😂 😂 😂 😂 😂 😂 😂 😂 😂 😂 😂 😂 😂 😂 😂 😂 😂 😂 😂 😂 😂 😂 😂 😂 😂 😂 😂 '"
      ]
     },
     "execution_count": 32,
     "metadata": {},
     "output_type": "execute_result"
    }
   ],
   "source": [
    "'😂 ' * 30"
   ]
  },
  {
   "cell_type": "code",
   "execution_count": 35,
   "metadata": {},
   "outputs": [
    {
     "data": {
      "text/plain": [
       "'Apple'"
      ]
     },
     "execution_count": 35,
     "metadata": {},
     "output_type": "execute_result"
    }
   ],
   "source": [
    "a.capitalize()\n"
   ]
  },
  {
   "cell_type": "markdown",
   "metadata": {},
   "source": [
    "find and replace\n"
   ]
  },
  {
   "cell_type": "code",
   "execution_count": 46,
   "metadata": {},
   "outputs": [
    {
     "name": "stdout",
     "output_type": "stream",
     "text": [
      "-1\n",
      "5\n",
      "The queen went to the jungle\n",
      "The king went to the castle\n",
      "The queen went to the castle\n"
     ]
    },
    {
     "data": {
      "text/plain": [
       "'Tho king wont to tho junglo'"
      ]
     },
     "execution_count": 46,
     "metadata": {},
     "output_type": "execute_result"
    }
   ],
   "source": [
    "sentence =  'The king went to the jungle'\n",
    "sentence.find('king')\n",
    "print(sentence.find('queen') )     # -1 if not found\n",
    "print(sentence.find('in'))\n",
    "\n",
    "print(sentence.replace('king','queen'))\n",
    "print(sentence.replace('jungle','castle'))\n",
    "\n",
    "sentence2 = sentence.replace('king','queen').replace('jungle','castle')\n",
    "print(sentence2)\n",
    "sentence.replace('e','o')\n"
   ]
  },
  {
   "cell_type": "code",
   "execution_count": 50,
   "metadata": {},
   "outputs": [
    {
     "name": "stdout",
     "output_type": "stream",
     "text": [
      "Tho king wont to tho junglo\n",
      "['The', 'king', 'went', 'to', 'the', 'jungle']\n"
     ]
    },
    {
     "data": {
      "text/plain": [
       "['apple', 'banana', 'mango', 'angur']"
      ]
     },
     "execution_count": 50,
     "metadata": {},
     "output_type": "execute_result"
    }
   ],
   "source": [
    "print(sentence.replace('e','o'))\n",
    "print(sentence.split()) ##split the sentence\n",
    "s3='apple,banana,mango,angur'\n",
    "s3.split(',')"
   ]
  },
  {
   "cell_type": "code",
   "execution_count": 51,
   "metadata": {},
   "outputs": [
    {
     "name": "stdout",
     "output_type": "stream",
     "text": [
      "[' twinkle,twinkle ,little star,', 'how i wonder what are you are !', 'up above the world so high,', 'like a diamond in the sky.']\n",
      "['twinkle,twinkle', ',little', 'star,', 'how', 'i', 'wonder', 'what', 'are', 'you', 'are', '!', 'up', 'above', 'the', 'world', 'so', 'high,', 'like', 'a', 'diamond', 'in', 'the', 'sky.']\n",
      "[' twinkle', 'twinkle ', 'little star', '\\nhow i wonder what are you are !\\nup above the world so high', '\\nlike a diamond in the sky.\\n']\n"
     ]
    }
   ],
   "source": [
    "poem = ''' twinkle,twinkle ,little star,\n",
    "how i wonder what are you are !\n",
    "up above the world so high,\n",
    "like a diamond in the sky.\n",
    "'''\n",
    "print(poem.splitlines())\n",
    "print(poem.split())\n",
    "print(poem.split(','))\n",
    "\n",
    "\n"
   ]
  },
  {
   "cell_type": "code",
   "execution_count": 4,
   "metadata": {},
   "outputs": [
    {
     "name": "stdout",
     "output_type": "stream",
     "text": [
      "c: home user document file.txt\n",
      "c:/home/user/document/file.txt\n",
      "c:, home, user, document, file.txt\n",
      "c:homeuserdocumentfile.txt\n",
      "c:😘😘home😘😘user😘😘document😘😘file.txt\n"
     ]
    }
   ],
   "source": [
    "path = ['c:','home',\"user\",'document','file.txt']\n",
    "print(\" \".join(path))\n",
    "print(\"/\".join(path))\n",
    "print(\", \".join(path))\n",
    "print(\"\".join(path))\n",
    "print(\"😘😘\".join(path))"
   ]
  },
  {
   "cell_type": "markdown",
   "metadata": {},
   "source": [
    "counts ,startswith,and endswith"
   ]
  },
  {
   "cell_type": "code",
   "execution_count": 2,
   "metadata": {},
   "outputs": [
    {
     "data": {
      "text/plain": [
       "1"
      ]
     },
     "execution_count": 2,
     "metadata": {},
     "output_type": "execute_result"
    }
   ],
   "source": [
    "story = 'once there was a king.He was very poerful.He had a beautiful queen.'\n",
    "story.count('queen')"
   ]
  },
  {
   "cell_type": "code",
   "execution_count": 5,
   "metadata": {},
   "outputs": [
    {
     "name": "stdout",
     "output_type": "stream",
     "text": [
      "['abhinav cover letter.pdf', 'abhinav jan 2023.pdf', 'abhinav resume 3.pdf', 'aBHINAV RESUME.pdf', 'alu model 2.png', 'alu model 3.png', 'alu model 4.png', 'alu model 5.png', 'ALU MODEL 7.png', 'ALU MODEL 8.jpg', 'ALU MODEL 9.jpg', 'ALU MOEL 6.png', 'anti_ragging_affidavit.pdf', 'ARTICLE SSC MY BOOK pdf.pdf', 'ayush 123.pdf', 'ayush jan 2023.pdf', 'ayush2356.pdf', 'ayushi jan 2023.pdf', 'BANK NOUN  pdf.pdf', 'Black and White Corporate and Bold Modern Industrialist Marketing Coordinator Cover Letter.pdf', 'BlueStacksInstaller_4.280.0.1022_native_a22836f4a7906a9989a3887d58cfb36d.exe', 'C language notes 2.pdf', 'CCC admit card.pdf', 'conditional-and-bi-conditional-connectivity.png', 'desktop.ini', 'discrete-mathematics-ch2-propositional-logicdrkhaledbakro-2-320.webp', 'download.jpg', 'electricity bill august 2023.pdf', 'english lab work (1).pdf', 'english lab work (2).pdf', 'english lab work (3).pdf', 'english lab work.pdf', 'Git-2.43.0-64-bit (3).exe', 'Git-2.43.0-64-bit.exe', 'GoogleDriveSetup.exe', 'jdk-21_windows-x64_bin.zip', 'kartik jan 2023.pdf', 'Miniconda3-latest-Windows-x86_64 (2).exe', 'Miniconda3-latest-Windows-x86_64.exe', 'parents portals.pdf', 'percentage question pdf.pdf', 'problems-based-on-converse-inverse-and-contrapositive2.png', 'propositional-logic-in-discrete-mathematics.png', 'RRB admit card.pdf', 'saloni 123.pdf', 'saloni cv.pdf', 'saloni jan 2023.pdf', 'samra jan 2023.pdf', 'samra report.pdf', 'saumya jan 2023.pdf', 'SCHOLARSHIP 2.pdf', 'scholarship form  final.pdf', 'Scholarship Management System 2.html', 'Scholarship Management System 2_files', 'Scholarship Management System.pdf', 'srmu image.html', 'srmu image_files', 'SRM_PRO2_REP abhinav.pdf', 'SRM_STDN_ATT 28102023.pdf', 'SRM_STDN_ATT tariq 20.pdf', 'SRM_STDN_ATT tariq.pdf', 'SRM_UNOF_SP.pdf', 'students portals.pdf', 'Syllogism_PDF_.pdf', 'tariq abdin resume.pdf', 'tariq abdin resume2023.pdf', 'tariq abdin.pdf', 'TARIQ FRONT PAGE.pdf', 'tariq jan 2023.pdf', 'tariq oct.pdf', 'Telegram Desktop', 'VR 19 Master of Computer Applications.pdf', 'VSCodeUserSetup-x64-1.86.1.exe', 'wallpaperflare.com_wallpaper.jpg']\n"
     ]
    }
   ],
   "source": [
    "import os\n",
    "\n",
    "content = os.listdir('C:/users/tariq/Downloads')\n",
    "print(content)\n",
    "\n"
   ]
  },
  {
   "cell_type": "code",
   "execution_count": 7,
   "metadata": {},
   "outputs": [
    {
     "name": "stdout",
     "output_type": "stream",
     "text": [
      "abhinav cover letter.pdf\n",
      "abhinav jan 2023.pdf\n",
      "abhinav resume 3.pdf\n",
      "aBHINAV RESUME.pdf\n",
      "alu model 2.png\n",
      "alu model 3.png\n",
      "alu model 4.png\n",
      "alu model 5.png\n",
      "ALU MODEL 7.png\n",
      "ALU MODEL 8.jpg\n",
      "ALU MODEL 9.jpg\n",
      "ALU MOEL 6.png\n",
      "anti_ragging_affidavit.pdf\n",
      "ARTICLE SSC MY BOOK pdf.pdf\n",
      "ayush 123.pdf\n",
      "ayush jan 2023.pdf\n",
      "ayush2356.pdf\n",
      "ayushi jan 2023.pdf\n",
      "BANK NOUN  pdf.pdf\n",
      "Black and White Corporate and Bold Modern Industrialist Marketing Coordinator Cover Letter.pdf\n",
      "BlueStacksInstaller_4.280.0.1022_native_a22836f4a7906a9989a3887d58cfb36d.exe\n",
      "C language notes 2.pdf\n",
      "CCC admit card.pdf\n",
      "conditional-and-bi-conditional-connectivity.png\n",
      "desktop.ini\n",
      "discrete-mathematics-ch2-propositional-logicdrkhaledbakro-2-320.webp\n",
      "download.jpg\n",
      "electricity bill august 2023.pdf\n",
      "english lab work (1).pdf\n",
      "english lab work (2).pdf\n",
      "english lab work (3).pdf\n",
      "english lab work.pdf\n",
      "Git-2.43.0-64-bit (3).exe\n",
      "Git-2.43.0-64-bit.exe\n",
      "GoogleDriveSetup.exe\n",
      "jdk-21_windows-x64_bin.zip\n",
      "kartik jan 2023.pdf\n",
      "Miniconda3-latest-Windows-x86_64 (2).exe\n",
      "Miniconda3-latest-Windows-x86_64.exe\n",
      "parents portals.pdf\n",
      "percentage question pdf.pdf\n",
      "problems-based-on-converse-inverse-and-contrapositive2.png\n",
      "propositional-logic-in-discrete-mathematics.png\n",
      "RRB admit card.pdf\n",
      "saloni 123.pdf\n",
      "saloni cv.pdf\n",
      "saloni jan 2023.pdf\n",
      "samra jan 2023.pdf\n",
      "samra report.pdf\n",
      "saumya jan 2023.pdf\n",
      "SCHOLARSHIP 2.pdf\n",
      "scholarship form  final.pdf\n",
      "Scholarship Management System 2.html\n",
      "Scholarship Management System 2_files\n",
      "Scholarship Management System.pdf\n",
      "srmu image.html\n",
      "srmu image_files\n",
      "SRM_PRO2_REP abhinav.pdf\n",
      "SRM_STDN_ATT 28102023.pdf\n",
      "SRM_STDN_ATT tariq 20.pdf\n",
      "SRM_STDN_ATT tariq.pdf\n",
      "SRM_UNOF_SP.pdf\n",
      "students portals.pdf\n",
      "Syllogism_PDF_.pdf\n",
      "tariq abdin resume.pdf\n",
      "tariq abdin resume2023.pdf\n",
      "tariq abdin.pdf\n",
      "TARIQ FRONT PAGE.pdf\n",
      "tariq jan 2023.pdf\n",
      "tariq oct.pdf\n",
      "Telegram Desktop\n",
      "VR 19 Master of Computer Applications.pdf\n",
      "VSCodeUserSetup-x64-1.86.1.exe\n",
      "wallpaperflare.com_wallpaper.jpg\n"
     ]
    }
   ],
   "source": [
    "for items in content:\n",
    "    print(items)"
   ]
  },
  {
   "cell_type": "code",
   "execution_count": 8,
   "metadata": {},
   "outputs": [
    {
     "name": "stdout",
     "output_type": "stream",
     "text": [
      "alu model 2.png\n",
      "alu model 3.png\n",
      "alu model 4.png\n",
      "alu model 5.png\n",
      "ALU MODEL 7.png\n",
      "ALU MOEL 6.png\n",
      "conditional-and-bi-conditional-connectivity.png\n",
      "problems-based-on-converse-inverse-and-contrapositive2.png\n",
      "propositional-logic-in-discrete-mathematics.png\n"
     ]
    }
   ],
   "source": [
    "for items in content:\n",
    "    if items.endswith('.png'):\n",
    "        print(items)\n",
    "\n"
   ]
  },
  {
   "cell_type": "code",
   "execution_count": 9,
   "metadata": {},
   "outputs": [
    {
     "name": "stdout",
     "output_type": "stream",
     "text": [
      "alu model 2.png\n",
      "alu model 3.png\n",
      "alu model 4.png\n",
      "alu model 5.png\n",
      "ALU MODEL 7.png\n",
      "ALU MOEL 6.png\n",
      "conditional-and-bi-conditional-connectivity.png\n",
      "problems-based-on-converse-inverse-and-contrapositive2.png\n",
      "propositional-logic-in-discrete-mathematics.png\n"
     ]
    }
   ],
   "source": [
    "for items in content:\n",
    "    if items.endswith('.png') or items.endswith('.docx'):\n",
    "        print(items)\n",
    "\n"
   ]
  },
  {
   "cell_type": "code",
   "execution_count": 12,
   "metadata": {},
   "outputs": [
    {
     "name": "stdout",
     "output_type": "stream",
     "text": [
      "conditional-and-bi-conditional-connectivity.png\n"
     ]
    }
   ],
   "source": [
    "for items in content:\n",
    "    if items.startswith('c'):\n",
    "        print(items)\n"
   ]
  },
  {
   "cell_type": "code",
   "execution_count": null,
   "metadata": {},
   "outputs": [],
   "source": []
  }
 ],
 "metadata": {
  "kernelspec": {
   "display_name": "base",
   "language": "python",
   "name": "python3"
  },
  "language_info": {
   "codemirror_mode": {
    "name": "ipython",
    "version": 3
   },
   "file_extension": ".py",
   "mimetype": "text/x-python",
   "name": "python",
   "nbconvert_exporter": "python",
   "pygments_lexer": "ipython3",
   "version": "3.11.5"
  }
 },
 "nbformat": 4,
 "nbformat_minor": 2
}
