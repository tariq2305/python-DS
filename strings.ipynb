{
 "cells": [
  {
   "cell_type": "markdown",
   "metadata": {},
   "source": [
    "\n",
    "\n",
    "\n",
    "Strings\n",
    "\n",
    ".create\n",
    ". indecxing & access\n",
    ".slicing\n",
    ". most useful methods\n",
    "\n"
   ]
  },
  {
   "cell_type": "code",
   "execution_count": 11,
   "metadata": {},
   "outputs": [],
   "source": [
    "a= 'apple'\n",
    "b=\"applejuice\"\n",
    "c= 'this is an example'\n",
    "d= '''this is an \n",
    "example'''           #triple quotes"
   ]
  },
  {
   "cell_type": "markdown",
   "metadata": {},
   "source": [
    ".string is a imutable\n",
    ".string is iterable\n",
    ".string is indexed\n",
    "\n",
    "iterable - something that has multiple variable and can be looped over"
   ]
  },
  {
   "cell_type": "code",
   "execution_count": 12,
   "metadata": {},
   "outputs": [
    {
     "name": "stdout",
     "output_type": "stream",
     "text": [
      "a\n",
      "p\n",
      "e\n"
     ]
    }
   ],
   "source": [
    "print(a[0])\n",
    "print(a[1])\n",
    "print(a[-1])\n"
   ]
  },
  {
   "cell_type": "markdown",
   "metadata": {},
   "source": [
    "Slicing \n",
    "`str[start:stop:step]\n"
   ]
  },
  {
   "cell_type": "code",
   "execution_count": 14,
   "metadata": {},
   "outputs": [
    {
     "name": "stdout",
     "output_type": "stream",
     "text": [
      "tai\n"
     ]
    }
   ],
   "source": [
    "name = \"tariq abdin\"\n",
    "print(name[0],name[1],name[3],sep='')"
   ]
  },
  {
   "cell_type": "code",
   "execution_count": 25,
   "metadata": {},
   "outputs": [
    {
     "name": "stdout",
     "output_type": "stream",
     "text": [
      "abdi\n",
      "riq ab\n",
      "t\n",
      "nidba qirat\n"
     ]
    }
   ],
   "source": [
    "name = \"tariq abdin\"\n",
    "print(name[6:10])\n",
    "print(name[2:8])\n",
    "print(name[:1:9]) ##start to 9 index with the step 1\n",
    "print(name[::-1]) ##reverse the string\n"
   ]
  },
  {
   "cell_type": "code",
   "execution_count": 28,
   "metadata": {},
   "outputs": [
    {
     "data": {
      "text/plain": [
       "'nidba'"
      ]
     },
     "execution_count": 28,
     "metadata": {},
     "output_type": "execute_result"
    }
   ],
   "source": [
    "name[:][::-1][:5]"
   ]
  },
  {
   "cell_type": "code",
   "execution_count": 33,
   "metadata": {},
   "outputs": [
    {
     "data": {
      "text/plain": [
       "'bruce wayne'"
      ]
     },
     "execution_count": 33,
     "metadata": {},
     "output_type": "execute_result"
    }
   ],
   "source": [
    "fname = \"bruce\"\n",
    "lname = \"wayne\"\n",
    "fname + ' '+ lname ##concentation"
   ]
  },
  {
   "cell_type": "code",
   "execution_count": 30,
   "metadata": {},
   "outputs": [
    {
     "data": {
      "text/plain": [
       "'ha ha ha ha ha ha ha ha ha ha ha ha ha ha ha ha ha ha ha ha '"
      ]
     },
     "execution_count": 30,
     "metadata": {},
     "output_type": "execute_result"
    }
   ],
   "source": [
    "'ha ' * 20 ##repetition"
   ]
  },
  {
   "cell_type": "code",
   "execution_count": 32,
   "metadata": {},
   "outputs": [
    {
     "data": {
      "text/plain": [
       "'😂 😂 😂 😂 😂 😂 😂 😂 😂 😂 😂 😂 😂 😂 😂 😂 😂 😂 😂 😂 😂 😂 😂 😂 😂 😂 😂 😂 😂 😂 '"
      ]
     },
     "execution_count": 32,
     "metadata": {},
     "output_type": "execute_result"
    }
   ],
   "source": [
    "'😂 ' * 30"
   ]
  },
  {
   "cell_type": "code",
   "execution_count": 35,
   "metadata": {},
   "outputs": [
    {
     "data": {
      "text/plain": [
       "'Apple'"
      ]
     },
     "execution_count": 35,
     "metadata": {},
     "output_type": "execute_result"
    }
   ],
   "source": [
    "a.capitalize()\n"
   ]
  },
  {
   "cell_type": "markdown",
   "metadata": {},
   "source": [
    "find and replace\n"
   ]
  },
  {
   "cell_type": "code",
   "execution_count": 46,
   "metadata": {},
   "outputs": [
    {
     "name": "stdout",
     "output_type": "stream",
     "text": [
      "-1\n",
      "5\n",
      "The queen went to the jungle\n",
      "The king went to the castle\n",
      "The queen went to the castle\n"
     ]
    },
    {
     "data": {
      "text/plain": [
       "'Tho king wont to tho junglo'"
      ]
     },
     "execution_count": 46,
     "metadata": {},
     "output_type": "execute_result"
    }
   ],
   "source": [
    "sentence =  'The king went to the jungle'\n",
    "sentence.find('king')\n",
    "print(sentence.find('queen') )     # -1 if not found\n",
    "print(sentence.find('in'))\n",
    "\n",
    "print(sentence.replace('king','queen'))\n",
    "print(sentence.replace('jungle','castle'))\n",
    "\n",
    "sentence2 = sentence.replace('king','queen').replace('jungle','castle')\n",
    "print(sentence2)\n",
    "sentence.replace('e','o')\n"
   ]
  },
  {
   "cell_type": "code",
   "execution_count": 50,
   "metadata": {},
   "outputs": [
    {
     "name": "stdout",
     "output_type": "stream",
     "text": [
      "Tho king wont to tho junglo\n",
      "['The', 'king', 'went', 'to', 'the', 'jungle']\n"
     ]
    },
    {
     "data": {
      "text/plain": [
       "['apple', 'banana', 'mango', 'angur']"
      ]
     },
     "execution_count": 50,
     "metadata": {},
     "output_type": "execute_result"
    }
   ],
   "source": [
    "print(sentence.replace('e','o'))\n",
    "print(sentence.split()) ##split the sentence\n",
    "s3='apple,banana,mango,angur'\n",
    "s3.split(',')"
   ]
  },
  {
   "cell_type": "code",
   "execution_count": 51,
   "metadata": {},
   "outputs": [
    {
     "name": "stdout",
     "output_type": "stream",
     "text": [
      "[' twinkle,twinkle ,little star,', 'how i wonder what are you are !', 'up above the world so high,', 'like a diamond in the sky.']\n",
      "['twinkle,twinkle', ',little', 'star,', 'how', 'i', 'wonder', 'what', 'are', 'you', 'are', '!', 'up', 'above', 'the', 'world', 'so', 'high,', 'like', 'a', 'diamond', 'in', 'the', 'sky.']\n",
      "[' twinkle', 'twinkle ', 'little star', '\\nhow i wonder what are you are !\\nup above the world so high', '\\nlike a diamond in the sky.\\n']\n"
     ]
    }
   ],
   "source": [
    "poem = ''' twinkle,twinkle ,little star,\n",
    "how i wonder what are you are !\n",
    "up above the world so high,\n",
    "like a diamond in the sky.\n",
    "'''\n",
    "print(poem.splitlines())\n",
    "print(poem.split())\n",
    "print(poem.split(','))\n",
    "\n",
    "\n"
   ]
  },
  {
   "cell_type": "code",
   "execution_count": 53,
   "metadata": {},
   "outputs": [
    {
     "name": "stdout",
     "output_type": "stream",
     "text": [
      "c: home user document file.txt\n",
      "c:/home/user/document/file.txt\n",
      "c:, home, user, document, file.txt\n",
      "c:homeuserdocumentfile.txt\n",
      "c:😘😘home😘😘user😘😘document😘😘file.txt\n"
     ]
    }
   ],
   "source": [
    "path = ['c:','home',\"user\",'document','file.txt']\n",
    "print(\" \".join(path))\n",
    "print(\"/\".join(path))\n",
    "print(\", \".join(path))\n",
    "print(\"\".join(path))\n",
    "print(\"😘😘\".join(path))"
   ]
  },
  {
   "cell_type": "code",
   "execution_count": null,
   "metadata": {},
   "outputs": [],
   "source": []
  }
 ],
 "metadata": {
  "kernelspec": {
   "display_name": "base",
   "language": "python",
   "name": "python3"
  },
  "language_info": {
   "codemirror_mode": {
    "name": "ipython",
    "version": 3
   },
   "file_extension": ".py",
   "mimetype": "text/x-python",
   "name": "python",
   "nbconvert_exporter": "python",
   "pygments_lexer": "ipython3",
   "version": "3.11.5"
  }
 },
 "nbformat": 4,
 "nbformat_minor": 2
}
