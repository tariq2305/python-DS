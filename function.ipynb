{
 "cells": [
  {
   "cell_type": "code",
   "execution_count": 1,
   "metadata": {},
   "outputs": [
    {
     "data": {
      "text/plain": [
       "5.0"
      ]
     },
     "execution_count": 1,
     "metadata": {},
     "output_type": "execute_result"
    }
   ],
   "source": [
    "p = 3\n",
    "b = 4\n",
    "h =(p**2 + b**2) **0.5\n",
    "h "
   ]
  },
  {
   "cell_type": "code",
   "execution_count": 2,
   "metadata": {},
   "outputs": [],
   "source": [
    "def hyp (p , b):\n",
    "    return (p**2 + b**2) ** 0.5"
   ]
  },
  {
   "cell_type": "code",
   "execution_count": 3,
   "metadata": {},
   "outputs": [
    {
     "name": "stdout",
     "output_type": "stream",
     "text": [
      "5.0\n",
      "13.0\n",
      "47.43416490252569\n"
     ]
    }
   ],
   "source": [
    "print(hyp(3,4))\n",
    "print(hyp(5,12))\n",
    "print(hyp(45,15))"
   ]
  },
  {
   "cell_type": "code",
   "execution_count": 18,
   "metadata": {},
   "outputs": [],
   "source": [
    "\n",
    "n=int(input(\"enter the value of n:\"))\n",
    "r=int(input(\"enter the value of r:\"))\n",
    "\n",
    "nf = 1\n",
    "for i in range (1,n+1):\n",
    "    nf *=i\n",
    "\n",
    "rf = 1\n",
    "for i in range (1,r+1):\n",
    "    rf *=i\n",
    "\n",
    "nmrf = 1\n",
    "for i in range (1,n-r+1):\n",
    "    \n",
    "    nmrf \n",
    "    \n",
    "\n",
    "\n"
   ]
  },
  {
   "cell_type": "markdown",
   "metadata": {},
   "source": [
    "FUNCTIONS IN PYTHON\n",
    ". PREDEFINED FUNCTION\n",
    ". USER DEFINED FUNCTIONS\n",
    "                 >FUNCTIONS WITH NO ARGUMENTS AND NO RETURN VALUE\n",
    "                 >FUNCTIONS WITH ARGUMENTS AND NO RETURN VALUE\n",
    "                 >FUNCTIONS WITH NO ARGUMENTS AND RETURN VALUES\n",
    "                 >FUNCTIONS WITH ARGUMENTS AND RETURN VALUES"
   ]
  },
  {
   "cell_type": "code",
   "execution_count": 1,
   "metadata": {},
   "outputs": [],
   "source": [
    "def bekar_fun(): #functions with no arguments and no return value\n",
    "    x= int(input(\"enter a number:\"))\n",
    "    y= int(input(\"enter another number:\"))\n",
    "    z= x*y\n",
    "    print(f'The product of {x} and {y} is {z}')\n",
    "    "
   ]
  },
  {
   "cell_type": "code",
   "execution_count": 2,
   "metadata": {},
   "outputs": [
    {
     "name": "stdout",
     "output_type": "stream",
     "text": [
      "The product of 3 and 23 is 69\n"
     ]
    }
   ],
   "source": [
    "bekar_fun()"
   ]
  },
  {
   "cell_type": "code",
   "execution_count": 3,
   "metadata": {},
   "outputs": [],
   "source": [
    "def bekar_fun2(): ##functions wi\n",
    "    x=int(input(\"enter a number\"))\n",
    "    y=int(input(\"enter another number\"))\n",
    "    z= x*y\n",
    "    return z"
   ]
  },
  {
   "cell_type": "code",
   "execution_count": 4,
   "metadata": {},
   "outputs": [
    {
     "data": {
      "text/plain": [
       "276"
      ]
     },
     "execution_count": 4,
     "metadata": {},
     "output_type": "execute_result"
    }
   ],
   "source": [
    "bekar_fun2()"
   ]
  },
  {
   "cell_type": "code",
   "execution_count": 5,
   "metadata": {},
   "outputs": [
    {
     "name": "stdout",
     "output_type": "stream",
     "text": [
      "168\n"
     ]
    }
   ],
   "source": [
    "a= bekar_fun2()\n",
    "print(a)"
   ]
  },
  {
   "cell_type": "code",
   "execution_count": 10,
   "metadata": {},
   "outputs": [],
   "source": [
    "def check_prime(n):\n",
    "    for i in range(2,n):\n",
    "        if n%i==0:\n",
    "            return False\n",
    "    return True"
   ]
  },
  {
   "cell_type": "code",
   "execution_count": 11,
   "metadata": {},
   "outputs": [
    {
     "name": "stdout",
     "output_type": "stream",
     "text": [
      "2\n",
      "3\n",
      "5\n",
      "7\n",
      "11\n",
      "13\n",
      "17\n",
      "19\n",
      "23\n"
     ]
    }
   ],
   "source": [
    "for i in range(2,25):\n",
    "    if check_prime(i):\n",
    "        print(i)\n"
   ]
  },
  {
   "cell_type": "code",
   "execution_count": 12,
   "metadata": {},
   "outputs": [],
   "source": [
    "def count_words(sentence):\n",
    "    words = sentence.split()\n",
    "    return len(words)"
   ]
  },
  {
   "cell_type": "code",
   "execution_count": 17,
   "metadata": {},
   "outputs": [
    {
     "name": "stdout",
     "output_type": "stream",
     "text": [
      "Total words in the sentence = 10\n"
     ]
    }
   ],
   "source": [
    "num = count_words('my name is tariq abdin  ,  i study in digipodium')\n",
    "print('Total words in the sentence =',num)"
   ]
  },
  {
   "cell_type": "code",
   "execution_count": null,
   "metadata": {},
   "outputs": [],
   "source": []
  }
 ],
 "metadata": {
  "kernelspec": {
   "display_name": "Python 3",
   "language": "python",
   "name": "python3"
  },
  "language_info": {
   "codemirror_mode": {
    "name": "ipython",
    "version": 3
   },
   "file_extension": ".py",
   "mimetype": "text/x-python",
   "name": "python",
   "nbconvert_exporter": "python",
   "pygments_lexer": "ipython3",
   "version": "3.11.5"
  }
 },
 "nbformat": 4,
 "nbformat_minor": 2
}
