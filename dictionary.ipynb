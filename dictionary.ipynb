{
 "cells": [
  {
   "cell_type": "code",
   "execution_count": 1,
   "metadata": {},
   "outputs": [
    {
     "name": "stdout",
     "output_type": "stream",
     "text": [
      "['The way of kings', 2009, 'Brandon Sanderson', 1000, 'fantasy novel', 10.0, 23094]\n"
     ]
    }
   ],
   "source": [
    "data = [ 'The way of kings',2009,\n",
    "        'Brandon Sanderson',1000,\n",
    "        'fantasy novel',10.0,23094]\n",
    "print(data)"
   ]
  },
  {
   "cell_type": "markdown",
   "metadata": {},
   "source": [
    "dictionary \n",
    "\n",
    "-keys are always imutable and unique,\n",
    "\n",
    "- values are mutable and can be duplicated\n",
    "\n",
    "-keys are case sensitive\n",
    "\n",
    "-"
   ]
  },
  {
   "cell_type": "code",
   "execution_count": 4,
   "metadata": {},
   "outputs": [
    {
     "name": "stdout",
     "output_type": "stream",
     "text": [
      "{'title': 'The way of kings', 'year': 2009, 'author': 'Brandon Sanderson', 'price': 1000, 'genre': 'fantasy novel', 'rating': 10.0, 'votes': 23094}\n"
     ]
    }
   ],
   "source": [
    "data = {\n",
    "    'title': 'The way of kings',\n",
    "    'year' : 2009,\n",
    "    'author': 'Brandon Sanderson',\n",
    "    'price': 1000,\n",
    "    'genre': 'fantasy novel',\n",
    "    'rating': 10.0,\n",
    "    'votes':23094,\n",
    "}\n",
    "print(data)"
   ]
  },
  {
   "cell_type": "code",
   "execution_count": 5,
   "metadata": {},
   "outputs": [
    {
     "name": "stdout",
     "output_type": "stream",
     "text": [
      "The way of kings\n",
      "Brandon Sanderson\n"
     ]
    }
   ],
   "source": [
    "print(data['title'])\n",
    "print(data['author'])"
   ]
  },
  {
   "cell_type": "code",
   "execution_count": 6,
   "metadata": {},
   "outputs": [
    {
     "name": "stdout",
     "output_type": "stream",
     "text": [
      "None\n",
      "1000\n"
     ]
    }
   ],
   "source": [
    "# error free way\n",
    "print(data.get('pages'))\n",
    "print(data.get('price'))"
   ]
  },
  {
   "cell_type": "code",
   "execution_count": 7,
   "metadata": {},
   "outputs": [
    {
     "data": {
      "text/plain": [
       "dict_keys(['title', 'year', 'author', 'price', 'genre', 'rating', 'votes'])"
      ]
     },
     "execution_count": 7,
     "metadata": {},
     "output_type": "execute_result"
    }
   ],
   "source": [
    "data.keys()"
   ]
  },
  {
   "cell_type": "code",
   "execution_count": 8,
   "metadata": {},
   "outputs": [
    {
     "data": {
      "text/plain": [
       "dict_values(['The way of kings', 2009, 'Brandon Sanderson', 1000, 'fantasy novel', 10.0, 23094])"
      ]
     },
     "execution_count": 8,
     "metadata": {},
     "output_type": "execute_result"
    }
   ],
   "source": [
    "data.values()"
   ]
  },
  {
   "cell_type": "code",
   "execution_count": 9,
   "metadata": {},
   "outputs": [
    {
     "data": {
      "text/plain": [
       "dict_items([('title', 'The way of kings'), ('year', 2009), ('author', 'Brandon Sanderson'), ('price', 1000), ('genre', 'fantasy novel'), ('rating', 10.0), ('votes', 23094)])"
      ]
     },
     "execution_count": 9,
     "metadata": {},
     "output_type": "execute_result"
    }
   ],
   "source": [
    "data.items()"
   ]
  },
  {
   "cell_type": "code",
   "execution_count": 10,
   "metadata": {},
   "outputs": [
    {
     "name": "stdout",
     "output_type": "stream",
     "text": [
      "{'name': 'fighter', 'actor': 'anil kapoor', 'release ': '2024', 'rating': '5.0', 'actress': 'deepika'}\n"
     ]
    }
   ],
   "source": [
    "movies = {}  #empty dictionary\n",
    "for i in range (5):\n",
    "    key = input('enter the key:')\n",
    "    value = input('enter the value:')\n",
    "    movies[key] = value # adding key value pair to the dictionary\n",
    "print(movies)\n",
    "    \n"
   ]
  },
  {
   "cell_type": "code",
   "execution_count": null,
   "metadata": {},
   "outputs": [],
   "source": [
    "\n"
   ]
  }
 ],
 "metadata": {
  "kernelspec": {
   "display_name": "base",
   "language": "python",
   "name": "python3"
  },
  "language_info": {
   "codemirror_mode": {
    "name": "ipython",
    "version": 3
   },
   "file_extension": ".py",
   "mimetype": "text/x-python",
   "name": "python",
   "nbconvert_exporter": "python",
   "pygments_lexer": "ipython3",
   "version": "3.11.5"
  }
 },
 "nbformat": 4,
 "nbformat_minor": 2
}
