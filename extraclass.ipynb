{
 "cells": [
  {
   "cell_type": "code",
   "execution_count": 18,
   "metadata": {},
   "outputs": [
    {
     "name": "stdout",
     "output_type": "stream",
     "text": [
      "hello\n"
     ]
    }
   ],
   "source": [
    "print(\"hello\")"
   ]
  },
  {
   "cell_type": "code",
   "execution_count": 19,
   "metadata": {},
   "outputs": [
    {
     "name": "stdout",
     "output_type": "stream",
     "text": [
      "hello\n",
      "world\n"
     ]
    }
   ],
   "source": [
    "print(\"hello\")\n",
    "print(\"world\")\n"
   ]
  },
  {
   "cell_type": "code",
   "execution_count": 20,
   "metadata": {},
   "outputs": [
    {
     "name": "stdout",
     "output_type": "stream",
     "text": [
      "30\n"
     ]
    }
   ],
   "source": [
    "a=10\n",
    "b=20\n",
    "c=a+b\n",
    "print(c)"
   ]
  },
  {
   "cell_type": "code",
   "execution_count": 21,
   "metadata": {},
   "outputs": [
    {
     "name": "stdout",
     "output_type": "stream",
     "text": [
      "<class 'int'>\n",
      "<class 'float'>\n",
      "<class 'str'>\n",
      "<class 'bool'>\n",
      "<class 'str'>\n",
      "<class 'complex'>\n"
     ]
    }
   ],
   "source": [
    "## python datatypes\n",
    "a= 100\n",
    "b=3.5\n",
    "c= \"coding blocks\"\n",
    "d= True\n",
    "e= 'A'\n",
    "f= 3+5j\n",
    "\n",
    "print(type(a))\n",
    "print(type(b))\n",
    "print(type(c))\n",
    "print(type(d))\n",
    "print(type(e))\n",
    "print(type(f))"
   ]
  },
  {
   "cell_type": "code",
   "execution_count": 22,
   "metadata": {},
   "outputs": [
    {
     "name": "stdout",
     "output_type": "stream",
     "text": [
      "10\n",
      "True\n",
      "SRMU\n"
     ]
    }
   ],
   "source": [
    "#multiple variable assignments\n",
    "\n",
    "a,b,c =10,True,\"SRMU\"\n",
    "\n",
    "print (a)\n",
    "print (b)\n",
    "print (c)\n"
   ]
  },
  {
   "cell_type": "code",
   "execution_count": 23,
   "metadata": {},
   "outputs": [
    {
     "name": "stdout",
     "output_type": "stream",
     "text": [
      "30\n",
      "-10\n",
      "200\n",
      "32\n",
      "0.5\n",
      "0\n",
      "10\n"
     ]
    }
   ],
   "source": [
    "# operator\n",
    "\n",
    "a = 10\n",
    "b=  20\n",
    "\n",
    "print(a+b)\n",
    "print(a-b)\n",
    "print(a*b)\n",
    "print(2**5)\n",
    "print(a/b) #decimal\n",
    "print(a//b) ##integer value\n",
    "print(a%b) ##integer value\n"
   ]
  },
  {
   "cell_type": "code",
   "execution_count": 24,
   "metadata": {},
   "outputs": [
    {
     "name": "stdout",
     "output_type": "stream",
     "text": [
      "its odd\n"
     ]
    }
   ],
   "source": [
    "n= int(input(\"enter a number:-\"))\n",
    "if n%2 ==0:\n",
    "    print(\"its even number\")\n",
    "else:\n",
    "    print(\"its odd\")\n",
    "    "
   ]
  },
  {
   "cell_type": "code",
   "execution_count": 6,
   "metadata": {},
   "outputs": [
    {
     "name": "stdout",
     "output_type": "stream",
     "text": [
      "5\n"
     ]
    }
   ],
   "source": [
    "# count\n",
    "n = int(input(\"enter a number:\"))\n",
    "count = 0\n",
    "while n!=0:\n",
    "        n=n//10\n",
    "        count= count+ 1\n",
    "print(count)"
   ]
  },
  {
   "cell_type": "code",
   "execution_count": 26,
   "metadata": {},
   "outputs": [
    {
     "name": "stdout",
     "output_type": "stream",
     "text": [
      "fail\n"
     ]
    }
   ],
   "source": [
    "marks = int(input(\"enter your marks:-\"))\n",
    "\n",
    "if marks>=90:\n",
    "        print(\"Grade A\")\n",
    "elif marks >= 80 and marks< 90:\n",
    "        print(\"Grade B\")\n",
    "elif marks >=70 and marks< 80:\n",
    "        print(\"Grade C\")\n",
    "else:\n",
    "        print(\"fail\")"
   ]
  },
  {
   "cell_type": "code",
   "execution_count": 2,
   "metadata": {},
   "outputs": [
    {
     "name": "stdout",
     "output_type": "stream",
     "text": [
      "5\n",
      "6\n"
     ]
    }
   ],
   "source": [
    "#reverse a number\n",
    " \n",
    "n= int(input(\"enter a number:-\"))\n",
    "\n",
    "while n!=0:\n",
    "        r= n%10\n",
    "        print(r)\n",
    "        n=n//10 ##number reduce"
   ]
  },
  {
   "cell_type": "code",
   "execution_count": 5,
   "metadata": {},
   "outputs": [
    {
     "name": "stdout",
     "output_type": "stream",
     "text": [
      "2\n"
     ]
    }
   ],
   "source": [
    "# count\n",
    "n = int(input(\"enter a number:\"))\n",
    "count = 0\n",
    "while n!=0:\n",
    "        n=n//10\n",
    "        count= count+ 1\n",
    "print(count)"
   ]
  },
  {
   "cell_type": "code",
   "execution_count": 11,
   "metadata": {},
   "outputs": [
    {
     "name": "stdout",
     "output_type": "stream",
     "text": [
      "1\n",
      "2\n",
      "3\n",
      "4\n",
      "5\n"
     ]
    }
   ],
   "source": [
    "#digit in a number\n",
    "\n",
    "n= int(input(\"enter a number:- \"))\n",
    "\n",
    "nod=0\n",
    "num=n\n",
    "while num!=0:\n",
    "        num=num//10\n",
    "        nod+=1\n",
    "div = 10**(nod-1)\n",
    "\n",
    "while div!=0:\n",
    "        q=n//div\n",
    "        r=n%div \n",
    "        print(q)\n",
    "        n = r\n",
    "        div //=10\n"
   ]
  },
  {
   "cell_type": "code",
   "execution_count": null,
   "metadata": {},
   "outputs": [],
   "source": [
    "# operation\n",
    "\n",
    "a=(10 , 20\n",
    "b=(\"coding\",\"blocks\",\"indira nagar\")"
   ]
  },
  {
   "cell_type": "code",
   "execution_count": 5,
   "metadata": {},
   "outputs": [
    {
     "name": "stdout",
     "output_type": "stream",
     "text": [
      "(9.14, True, (7+4j), 'kartik')\n",
      "(10, 9.14, True, (7+4j))\n",
      "('kartik', (7+4j), True, 9.14, 10)\n",
      "5\n",
      "5\n",
      "5\n",
      "5\n"
     ]
    }
   ],
   "source": [
    "a= (10,9.14,True,7+4j,\"kartik\")\n",
    "\n",
    "print(a[1:])\n",
    "print(a[:4])\n",
    "print(a[::-1])\n",
    "print(len(a))\n",
    "print(len(a))\n",
    "print(len(a))\n",
    "print(len(a))"
   ]
  },
  {
   "cell_type": "code",
   "execution_count": 8,
   "metadata": {},
   "outputs": [
    {
     "name": "stdout",
     "output_type": "stream",
     "text": [
      "(10, 20, True, (3+4j))\n",
      "tariq\n"
     ]
    }
   ],
   "source": [
    "a= [10,20,True,3+4j]\n",
    "print(tuple(a))\n",
    "\n",
    "b=(10,20,[\"kartik\",\"tariq\"])\n",
    "print(b[2][1])"
   ]
  },
  {
   "cell_type": "markdown",
   "metadata": {},
   "source": [
    "# dictionary\n",
    "\n",
    "value stored in the form key :value"
   ]
  },
  {
   "cell_type": "code",
   "execution_count": 9,
   "metadata": {},
   "outputs": [
    {
     "name": "stdout",
     "output_type": "stream",
     "text": [
      "<class 'dict'>\n"
     ]
    }
   ],
   "source": [
    "\n",
    "dict = {}\n",
    "\n",
    "print(type(dict))"
   ]
  },
  {
   "cell_type": "code",
   "execution_count": 16,
   "metadata": {},
   "outputs": [
    {
     "name": "stdout",
     "output_type": "stream",
     "text": [
      "{'name': 'Tariq', 'marks': 89, 'subjects': ['java', 'python', 'webd'], 'friends': {'tariq': 'android developer', 'abhinav': 'data scientist'}}\n",
      "display all keys name\n",
      "('name', 'Tariq')\n",
      "('marks', 89)\n",
      "('subjects', ['java', 'python', 'webd'])\n",
      "('friends', {'tariq': 'android developer', 'abhinav': 'data scientist'})\n",
      "display all keys marks\n",
      "('name', 'Tariq')\n",
      "('marks', 89)\n",
      "('subjects', ['java', 'python', 'webd'])\n",
      "('friends', {'tariq': 'android developer', 'abhinav': 'data scientist'})\n",
      "display all keys subjects\n",
      "('name', 'Tariq')\n",
      "('marks', 89)\n",
      "('subjects', ['java', 'python', 'webd'])\n",
      "('friends', {'tariq': 'android developer', 'abhinav': 'data scientist'})\n",
      "display all keys friends\n",
      "('name', 'Tariq')\n",
      "('marks', 89)\n",
      "('subjects', ['java', 'python', 'webd'])\n",
      "('friends', {'tariq': 'android developer', 'abhinav': 'data scientist'})\n"
     ]
    }
   ],
   "source": [
    "\n",
    "a={\n",
    "        \"name\": \"Tariq\",\n",
    "        \"marks\": 89,\n",
    "        \"subjects\" : [\"java\",\"python\",\"webd\"],\n",
    "        \"friends\": {\n",
    "                \"tariq\":\"android developer\",\n",
    "                \"abhinav\": \"data scientist\"\n",
    "        }\n",
    "}\n",
    "print (a)\n",
    "\n",
    "for key in a.keys():\n",
    "        print(\"display all keys\",key)\n",
    "\n",
    "        for item in a.items():\n",
    "                print(item)"
   ]
  },
  {
   "cell_type": "code",
   "execution_count": null,
   "metadata": {},
   "outputs": [],
   "source": []
  }
 ],
 "metadata": {
  "kernelspec": {
   "display_name": "base",
   "language": "python",
   "name": "python3"
  },
  "language_info": {
   "codemirror_mode": {
    "name": "ipython",
    "version": 3
   },
   "file_extension": ".py",
   "mimetype": "text/x-python",
   "name": "python",
   "nbconvert_exporter": "python",
   "pygments_lexer": "ipython3",
   "version": "3.11.5"
  }
 },
 "nbformat": 4,
 "nbformat_minor": 2
}
