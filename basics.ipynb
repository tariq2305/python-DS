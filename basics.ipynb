{
 "cells": [
  {
   "cell_type": "code",
   "execution_count": null,
   "metadata": {},
   "outputs": [],
   "source": [
    "2390+2390"
   ]
  },
  {
   "cell_type": "code",
   "execution_count": null,
   "metadata": {},
   "outputs": [],
   "source": [
    "231-2392"
   ]
  },
  {
   "cell_type": "code",
   "execution_count": null,
   "metadata": {},
   "outputs": [],
   "source": [
    "26269+5156189"
   ]
  },
  {
   "cell_type": "code",
   "execution_count": null,
   "metadata": {},
   "outputs": [],
   "source": [
    "10/3"
   ]
  },
  {
   "cell_type": "code",
   "execution_count": null,
   "metadata": {},
   "outputs": [],
   "source": [
    "10//3 # floor division"
   ]
  },
  {
   "cell_type": "code",
   "execution_count": null,
   "metadata": {},
   "outputs": [],
   "source": [
    "10**3"
   ]
  },
  {
   "cell_type": "code",
   "execution_count": null,
   "metadata": {},
   "outputs": [],
   "source": [
    "10%3-120*5"
   ]
  },
  {
   "cell_type": "code",
   "execution_count": null,
   "metadata": {},
   "outputs": [],
   "source": [
    "name =\"Tariq abdin\"\n",
    "age = 23\n",
    "can_vote = True"
   ]
  },
  {
   "cell_type": "code",
   "execution_count": null,
   "metadata": {},
   "outputs": [],
   "source": [
    "a=5\n",
    "a+=50\n",
    "a-=10\n"
   ]
  },
  {
   "cell_type": "code",
   "execution_count": null,
   "metadata": {},
   "outputs": [],
   "source": [
    "a=10\n",
    "b=31\n",
    "print(a>b)\n",
    "print(a<b)\n",
    "print(a==b)\n",
    "print(a==b)\n",
    "print(a==b)\n",
    "print(a==b)\n",
    "print(a==b)\n",
    "print(a==b)\n",
    "print(a==b)\n",
    "print(a==b)\n",
    "print(a==b)\n",
    "print(a==b)\n",
    "print(a==b)\n",
    "print(a==b)\n",
    "print(a==b)"
   ]
  },
  {
   "cell_type": "code",
   "execution_count": null,
   "metadata": {},
   "outputs": [],
   "source": [
    "x= 'apple'\n",
    "u='cherry'\n",
    "print (x=='apple' and x==u)\n",
    "print (x=='apple' and x!=u)\n",
    "print (x=='apple' or x==u)\n",
    "print (not x=='apple')\n",
    "\n",
    "\n",
    "\n",
    "\n",
    "\n"
   ]
  },
  {
   "cell_type": "code",
   "execution_count": null,
   "metadata": {},
   "outputs": [],
   "source": [
    "fruits=('mango','apple','cherry')"
   ]
  },
  {
   "cell_type": "code",
   "execution_count": null,
   "metadata": {},
   "outputs": [],
   "source": [
    "'mango' in fruits #membership operators\n"
   ]
  },
  {
   "cell_type": "code",
   "execution_count": 34,
   "metadata": {},
   "outputs": [
    {
     "data": {
      "text/plain": [
       "False"
      ]
     },
     "execution_count": 34,
     "metadata": {},
     "output_type": "execute_result"
    }
   ],
   "source": [
    "'avocado' in fruits"
   ]
  },
  {
   "cell_type": "code",
   "execution_count": 38,
   "metadata": {},
   "outputs": [
    {
     "name": "stdout",
     "output_type": "stream",
     "text": [
      "principal 233112162\n",
      "rate 2.23\n",
      "time 14\n",
      "simple interest 72777616.97639999\n",
      "amount 305889778.9764\n"
     ]
    }
   ],
   "source": [
    "p=int(input('principal: '))\n",
    "r=float(input('rate: '))\n",
    "t=int(input('time'))\n",
    "si=p*r*t/100\n",
    "amt=si+p\n",
    "print('principal',p)\n",
    "print('rate',r)\n",
    "print('time',t)\n",
    "print('simple interest',si)\n",
    "print('amount',amt)\n",
    "\n",
    "\n"
   ]
  },
  {
   "cell_type": "code",
   "execution_count": 39,
   "metadata": {},
   "outputs": [
    {
     "name": "stdout",
     "output_type": "stream",
     "text": [
      "your favourite city is ballia\n"
     ]
    }
   ],
   "source": [
    "fav_city=input('favourite city: ')\n",
    "print('your favourite city is',fav_city )"
   ]
  },
  {
   "cell_type": "code",
   "execution_count": 2,
   "metadata": {},
   "outputs": [
    {
     "name": "stdout",
     "output_type": "stream",
     "text": [
      "hello world\n"
     ]
    }
   ],
   "source": [
    "#this is a ccomment \n",
    "#this is a also a comment\n",
    "print(\"hello world\")\n"
   ]
  },
  {
   "cell_type": "code",
   "execution_count": null,
   "metadata": {},
   "outputs": [],
   "source": []
  },
  {
   "cell_type": "code",
   "execution_count": 3,
   "metadata": {},
   "outputs": [
    {
     "name": "stdout",
     "output_type": "stream",
     "text": [
      "30\n"
     ]
    }
   ],
   "source": [
    "a=10\n",
    "b=20\n",
    "c=a+b\n",
    "print(c)"
   ]
  },
  {
   "cell_type": "markdown",
   "metadata": {},
   "source": [
    "#variable and datatypes\n"
   ]
  },
  {
   "cell_type": "code",
   "execution_count": 8,
   "metadata": {},
   "outputs": [
    {
     "name": "stdout",
     "output_type": "stream",
     "text": [
      "50\n",
      "15.67\n",
      "srmu\n",
      "True\n",
      "(2+6j)\n"
     ]
    }
   ],
   "source": [
    "a=50\n",
    "b=15.67\n",
    "c=\"srmu\"\n",
    "d= True\n",
    "e= 2 + 6j\n",
    "print(a)\n",
    "print(b)\n",
    "print(c)\n",
    "print(d)\n",
    "print(e)\n",
    "\n",
    "\n"
   ]
  },
  {
   "cell_type": "markdown",
   "metadata": {},
   "source": []
  },
  {
   "cell_type": "markdown",
   "metadata": {},
   "source": [
    "#multiple variable assignment\n"
   ]
  },
  {
   "cell_type": "code",
   "execution_count": 9,
   "metadata": {},
   "outputs": [
    {
     "name": "stdout",
     "output_type": "stream",
     "text": [
      "76\n",
      "False\n",
      "srmu\n"
     ]
    }
   ],
   "source": [
    "a,b,c =76,False,\"srmu\"\n",
    "print (a)\n",
    "print (b)\n",
    "print (c)"
   ]
  },
  {
   "cell_type": "code",
   "execution_count": null,
   "metadata": {},
   "outputs": [],
   "source": []
  },
  {
   "cell_type": "markdown",
   "metadata": {},
   "source": [
    "##operators\n",
    "## +, -,*,**,/,//,%\n"
   ]
  },
  {
   "cell_type": "code",
   "execution_count": 10,
   "metadata": {},
   "outputs": [
    {
     "name": "stdout",
     "output_type": "stream",
     "text": [
      "15\n",
      "5\n",
      "50\n",
      "100000\n",
      "2.0\n",
      "2\n"
     ]
    }
   ],
   "source": [
    "a=10\n",
    "b=5\n",
    "print(a+b)\n",
    "print(a-b)\n",
    "print(a*b)\n",
    "print(a**b)\n",
    "print(a/b)\n",
    "print(a//b)\n",
    "\n",
    "\n",
    "\n",
    "\n"
   ]
  },
  {
   "cell_type": "markdown",
   "metadata": {},
   "source": [
    "print() function\n",
    "\n",
    "print(data)\n",
    "print(datad1,data2,data3)\n",
    "print(f'message{data}')\n"
   ]
  },
  {
   "cell_type": "code",
   "execution_count": 2,
   "metadata": {},
   "outputs": [
    {
     "name": "stdout",
     "output_type": "stream",
     "text": [
      "Tariq Ballia\n",
      "Tariq\n",
      "Ballia\n",
      "Tariq\n",
      "Ballia\n",
      "Tariq,Ballia\n",
      "Tariq lives in Ballia\n"
     ]
    }
   ],
   "source": [
    "name=\"Tariq\"\n",
    "city=\"Ballia\"\n",
    "print(name, city)\n",
    "print(name)\n",
    "print(city)\n",
    "print(name, city, sep='\\n')\n",
    "print(name, city,sep=',')\n",
    "print(f'{name} lives in {city}') # formatted string\n"
   ]
  },
  {
   "cell_type": "code",
   "execution_count": 11,
   "metadata": {},
   "outputs": [
    {
     "name": "stdout",
     "output_type": "stream",
     "text": [
      "You purchased items for more than 200 \n",
      "you get a 10% discount\n",
      "total 360.0\n"
     ]
    }
   ],
   "source": [
    "qty=2\n",
    "price = 200.00\n",
    "total=qty*price\n",
    "if total> 200:\n",
    "    print('You purchased items for more than 200 ')\n",
    "    print ('you get a 10% discount')\n",
    "    total=total *0.9 #90% of the total\n",
    "print('total',total)"
   ]
  },
  {
   "cell_type": "code",
   "execution_count": 5,
   "metadata": {},
   "outputs": [
    {
     "name": "stdout",
     "output_type": "stream",
     "text": [
      "even num 12365488\n"
     ]
    }
   ],
   "source": [
    "number = int (input('enter a number:'))\n",
    "if number % 2 == 0:\n",
    "    print(f'even num {number}')\n",
    "else:\n",
    "    print (f'odd num {number}')"
   ]
  },
  {
   "cell_type": "code",
   "execution_count": 8,
   "metadata": {},
   "outputs": [
    {
     "name": "stdout",
     "output_type": "stream",
     "text": [
      "percentage12.5%\n",
      "😔😔😔😔😔\n"
     ]
    }
   ],
   "source": [
    "marks = int(input('enter total marks you get:'))\n",
    "total = 600\n",
    "pct = marks / total * 100\n",
    "print(f'percentage{pct}%')\n",
    "if pct>=90:\n",
    "    print ('Grade A+😊')\n",
    "elif pct >=80:\n",
    "    print('Grade A🤷‍♀️')\n",
    "elif pct >=70:\n",
    "    print ('Grade B')\n",
    "elif pct >=60:\n",
    "    print(\"Grade C\")\n",
    "elif pct >=50:\n",
    "    print ('Grade D')\n",
    "else:\n",
    "    print('😔😔😔😔😔')\n",
    "\n",
    "\n",
    "            "
   ]
  },
  {
   "cell_type": "code",
   "execution_count": 9,
   "metadata": {},
   "outputs": [
    {
     "name": "stdout",
     "output_type": "stream",
     "text": [
      "what is the capital of utttarkhand\n",
      "A. Dehradun\n",
      "B. Delhi\n",
      "C. lucknow \n",
      "D. pune\n",
      "coreect , aap jeet gaye 40 crore😍😍😍\n"
     ]
    }
   ],
   "source": [
    "print('what is the capital of utttarkhand')\n",
    "print('A. Dehradun')\n",
    "print('B. Delhi')\n",
    "print('C. lucknow ')\n",
    "print('D. pune')\n",
    "ans = input ('enter option number:')\n",
    "match ans :\n",
    "    case 'A':\n",
    "        print('coreect , aap jeet gaye 40 crore😍😍😍')\n",
    "    case 'B':\n",
    "        print ('wrong answer,UP ka naii to kahi ka nai')\n",
    "    case 'C' :\n",
    "         print ('wrong answer,delhi ka nai to kahi ka nai')\n",
    "    case 'D' :\n",
    "        print('wrong answer')\n",
    "    case _ :\n",
    "        print('Invalid option')\n",
    "              \n",
    "         \n",
    "                 \n",
    "        \n",
    "        "
   ]
  },
  {
   "cell_type": "code",
   "execution_count": 4,
   "metadata": {},
   "outputs": [
    {
     "name": "stdout",
     "output_type": "stream",
     "text": [
      "Tariq Abdin\n"
     ]
    }
   ],
   "source": [
    "name = 'Tariq Abdin'\n",
    "print(name) "
   ]
  },
  {
   "cell_type": "code",
   "execution_count": 8,
   "metadata": {},
   "outputs": [
    {
     "name": "stdout",
     "output_type": "stream",
     "text": [
      "tariq abdin 26 handsome\n"
     ]
    }
   ],
   "source": [
    "name = 'tariq abdin'\n",
    "age=26\n",
    "quality= 'handsome'\n",
    "print(name , age,  quality)"
   ]
  },
  {
   "cell_type": "code",
   "execution_count": 1,
   "metadata": {},
   "outputs": [
    {
     "name": "stdout",
     "output_type": "stream",
     "text": [
      "odd\n"
     ]
    }
   ],
   "source": [
    "a= int(input())\n",
    "\n",
    "if (a%2==0):\n",
    "    print(\"even\")\n",
    "else:\n",
    "    print(\"odd\")"
   ]
  },
  {
   "cell_type": "code",
   "execution_count": 3,
   "metadata": {},
   "outputs": [
    {
     "name": "stdout",
     "output_type": "stream",
     "text": [
      "Grade B\n"
     ]
    }
   ],
   "source": [
    "marks = int(input(\"enter yours marks\"))\n",
    "if( marks>=85):\n",
    "    print(\"grade A\" )\n",
    "elif  marks>=75 and marks <=85:\n",
    "    print(\"Grade B\")\n",
    "elif marks >=65 and marks<75:\n",
    "    print(\"garde c\")\n",
    "elif marks >=55 and marks <65:\n",
    "    print(\"grade E\")\n",
    "else:\n",
    "    print(\"failure\")\n",
    "    "
   ]
  },
  {
   "cell_type": "markdown",
   "metadata": {},
   "source": [
    "# count digit in a number\n",
    "\n"
   ]
  },
  {
   "cell_type": "code",
   "execution_count": 6,
   "metadata": {},
   "outputs": [
    {
     "name": "stdout",
     "output_type": "stream",
     "text": [
      "1\n",
      "2\n",
      "3\n",
      "4\n",
      "5\n",
      "6\n",
      "7\n"
     ]
    }
   ],
   "source": [
    "n= int(input(\"enter the number:\"))\n",
    "count =0\n",
    "while(n!=0):\n",
    "    n=n//10\n",
    "    count+=1\n",
    "    \n",
    "    print(count)\n"
   ]
  },
  {
   "cell_type": "markdown",
   "metadata": {},
   "source": [
    "## reverse a digit\n"
   ]
  },
  {
   "cell_type": "code",
   "execution_count": 7,
   "metadata": {},
   "outputs": [
    {
     "name": "stdout",
     "output_type": "stream",
     "text": [
      "2\n",
      "5\n",
      "8\n",
      "7\n",
      "4\n",
      "1\n"
     ]
    }
   ],
   "source": [
    "n=int(input(\"enter a number:\"))\n",
    "\n",
    "while n!=0:\n",
    "    rem =n%10\n",
    "    print(rem)\n",
    "    n=n//10"
   ]
  },
  {
   "cell_type": "markdown",
   "metadata": {},
   "source": [
    "# count digit in a number"
   ]
  },
  {
   "cell_type": "code",
   "execution_count": null,
   "metadata": {},
   "outputs": [],
   "source": []
  }
 ],
 "metadata": {
  "kernelspec": {
   "display_name": "base",
   "language": "python",
   "name": "python3"
  },
  "language_info": {
   "codemirror_mode": {
    "name": "ipython",
    "version": 3
   },
   "file_extension": ".py",
   "mimetype": "text/x-python",
   "name": "python",
   "nbconvert_exporter": "python",
   "pygments_lexer": "ipython3",
   "version": "3.11.5"
  }
 },
 "nbformat": 4,
 "nbformat_minor": 2
}
